{
 "cells": [
  {
   "cell_type": "code",
   "execution_count": 41,
   "metadata": {},
   "outputs": [
    {
     "name": "stdout",
     "output_type": "stream",
     "text": [
      "Marksheet\n",
      "\n",
      "Enter Student Name:34\n",
      "Enter Roll Number:34\n",
      "Enter Physics Marks:34\n",
      "Enter Chemistry Marks:34\n",
      "Enter Math Marks:43\n",
      "Enter Urdu Marks:3\n",
      "Enter English Marks:3\n",
      "Enter Islamiat Marks:3\n",
      "\n",
      "_________________________________\n",
      "\n"
     ]
    },
    {
     "ename": "ValueError",
     "evalue": "I/O operation on closed file.",
     "output_type": "error",
     "traceback": [
      "\u001b[1;31m---------------------------------------------------------------------------\u001b[0m",
      "\u001b[1;31mValueError\u001b[0m                                Traceback (most recent call last)",
      "\u001b[1;32m<ipython-input-41-e7ba478b7a41>\u001b[0m in \u001b[0;36m<module>\u001b[1;34m\u001b[0m\n\u001b[0;32m     37\u001b[0m     \u001b[0mMarksheetp\u001b[0m\u001b[1;33m.\u001b[0m\u001b[0mwrite\u001b[0m\u001b[1;33m(\u001b[0m\u001b[1;34m\"Grade D\"\u001b[0m\u001b[1;33m)\u001b[0m\u001b[1;33m\u001b[0m\u001b[1;33m\u001b[0m\u001b[0m\n\u001b[0;32m     38\u001b[0m \u001b[1;32mif\u001b[0m \u001b[0mpercentage\u001b[0m \u001b[1;33m>=\u001b[0m\u001b[1;36m0\u001b[0m \u001b[1;32mand\u001b[0m \u001b[0mpercentage\u001b[0m \u001b[1;33m<=\u001b[0m\u001b[1;36m50\u001b[0m\u001b[1;33m:\u001b[0m\u001b[1;33m\u001b[0m\u001b[1;33m\u001b[0m\u001b[0m\n\u001b[1;32m---> 39\u001b[1;33m     \u001b[0mMarksheetp\u001b[0m\u001b[1;33m.\u001b[0m\u001b[0mwrite\u001b[0m\u001b[1;33m(\u001b[0m\u001b[1;34m\"Grade F\"\u001b[0m\u001b[1;33m)\u001b[0m\u001b[1;33m\u001b[0m\u001b[1;33m\u001b[0m\u001b[0m\n\u001b[0m\u001b[0;32m     40\u001b[0m \u001b[1;33m\u001b[0m\u001b[0m\n\u001b[0;32m     41\u001b[0m \u001b[1;33m\u001b[0m\u001b[0m\n",
      "\u001b[1;31mValueError\u001b[0m: I/O operation on closed file."
     ]
    }
   ],
   "source": [
    "print(\"Marksheet\")\n",
    "print()\n",
    "name=input(\"Enter Student Name:\")\n",
    "roll_num=input(\"Enter Roll Number:\")\n",
    "phy_marks=int(input(\"Enter Physics Marks:\"))\n",
    "chem_marks=int(input(\"Enter Chemistry Marks:\"))\n",
    "math_marks=int(input(\"Enter Math Marks:\"))\n",
    "urdu_marks=int(input(\"Enter Urdu Marks:\"))\n",
    "eng_marks=int(input(\"Enter English Marks:\"))\n",
    "islam_marks=int(input(\"Enter Islamiat Marks:\"))\n",
    "print()\n",
    "print(\"_________________________________\")\n",
    "print()\n",
    "obtained_marks= phy_marks + chem_marks + math_marks + urdu_marks + eng_marks + islam_marks\n",
    "total_marks=550\n",
    "percentage=((obtained_marks / total_marks) * 100)\n",
    "if percentage >=80 and percentage <=100:\n",
    "    print(\"Grade A\")\n",
    "if percentage >=65 and percentage <=79.99:\n",
    "    print(\"Grade B\")\n",
    "if percentage >=50 and percentage <=64.99:\n",
    "    print(\"Grade C\")\n",
    "if percentage >=40 and percentage <=49.99:\n",
    "    print(\"Grade D\")\n",
    "if percentage >=0 and percentage <=39.99:\n",
    "    print(\"Grade F\")"
   ]
  },
  {
   "cell_type": "markdown",
   "metadata": {},
   "source": [
    "\n",
    "`\n"
   ]
  },
  {
   "cell_type": "code",
   "execution_count": null,
   "metadata": {},
   "outputs": [],
   "source": []
  },
  {
   "cell_type": "code",
   "execution_count": null,
   "metadata": {},
   "outputs": [],
   "source": []
  }
 ],
 "metadata": {
  "kernelspec": {
   "display_name": "Python 3",
   "language": "python",
   "name": "python3"
  },
  "language_info": {
   "codemirror_mode": {
    "name": "ipython",
    "version": 3
   },
   "file_extension": ".py",
   "mimetype": "text/x-python",
   "name": "python",
   "nbconvert_exporter": "python",
   "pygments_lexer": "ipython3",
   "version": "3.7.3"
  }
 },
 "nbformat": 4,
 "nbformat_minor": 2
}
