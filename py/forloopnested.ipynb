{
 "cells": [
  {
   "cell_type": "code",
   "execution_count": 3,
   "metadata": {},
   "outputs": [
    {
     "name": "stdout",
     "output_type": "stream",
     "text": [
      "['NabeelNasir', 'ZaraanNasir', 'KashaanNasir', 'SarfarazNasir']\n",
      "first child NabeelNasir\n",
      "last name SarfarazNasir\n",
      "['NabeelNasir', 'ZaraanNasir', 'KashaanNasir', 'SarfarazNasir', 'NabeelKamran', 'ZaraanKamran', 'KashaanKamran', 'SarfarazKamran']\n",
      "first child NabeelKamran\n",
      "last name SarfarazKamran\n",
      "['NabeelNasir', 'ZaraanNasir', 'KashaanNasir', 'SarfarazNasir', 'NabeelKamran', 'ZaraanKamran', 'KashaanKamran', 'SarfarazKamran', 'NabeelShaikh', 'ZaraanShaikh', 'KashaanShaikh', 'SarfarazShaikh']\n",
      "first child NabeelShaikh\n",
      "last name SarfarazShaikh\n",
      "['NabeelNasir', 'ZaraanNasir', 'KashaanNasir', 'SarfarazNasir', 'NabeelKamran', 'ZaraanKamran', 'KashaanKamran', 'SarfarazKamran', 'NabeelShaikh', 'ZaraanShaikh', 'KashaanShaikh', 'SarfarazShaikh', 'NabeelQazi', 'ZaraanQazi', 'KashaanQazi', 'SarfarazQazi']\n",
      "first child NabeelQazi\n",
      "last name SarfarazQazi\n"
     ]
    }
   ],
   "source": [
    "Father_names = [\"Nasir\" ,\"Kamran\" ,\"Shaikh\",\"Qazi\"]\n",
    "Children_names = [\"Nabeel\" , \"Zaraan\" , \"Kashaan\", \"Sarfaraz\"]\n",
    "Full_name = []\n",
    "Location = 0\n",
    "for Father_name in Father_names:\n",
    "    for Child_name in Children_names:\n",
    "        Full_name.append(Child_name + \"\" + Father_name)\n",
    "    print(Full_name)\n",
    "    print(\"first child\", Full_name[Location])\n",
    "    print(\"last name\" , Full_name[-1])\n",
    "    Location += 4"
   ]
  },
  {
   "cell_type": "code",
   "execution_count": null,
   "metadata": {},
   "outputs": [],
   "source": []
  }
 ],
 "metadata": {
  "kernelspec": {
   "display_name": "Python 3",
   "language": "python",
   "name": "python3"
  },
  "language_info": {
   "codemirror_mode": {
    "name": "ipython",
    "version": 3
   },
   "file_extension": ".py",
   "mimetype": "text/x-python",
   "name": "python",
   "nbconvert_exporter": "python",
   "pygments_lexer": "ipython3",
   "version": "3.7.3"
  }
 },
 "nbformat": 4,
 "nbformat_minor": 2
}
