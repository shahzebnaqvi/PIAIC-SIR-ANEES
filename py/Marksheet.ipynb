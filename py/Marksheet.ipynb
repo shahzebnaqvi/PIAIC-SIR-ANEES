{
 "cells": [
  {
   "cell_type": "code",
   "execution_count": 1,
   "metadata": {},
   "outputs": [
    {
     "name": "stdout",
     "output_type": "stream",
     "text": [
      "Marksheet\n",
      "\n",
      "Enter Student Name:shahzeb\n",
      "Enter Roll Number:32\n",
      "Enter Physics Marks:34\n",
      "Enter Chemistry Marks:45\n",
      "Enter Math Marks:65\n",
      "Enter Urdu Marks:676\n",
      "Enter English Marks:56\n",
      "Enter Islamiat Marks:45\n",
      "\n",
      "_________________________________\n",
      "\n"
     ]
    }
   ],
   "source": [
    "print(\"Marksheet\")\n",
    "print()\n",
    "name=input(\"Enter Student Name:\")\n",
    "roll_num=input(\"Enter Roll Number:\")\n",
    "phy_marks=int(input(\"Enter Physics Marks:\"))\n",
    "chem_marks=int(input(\"Enter Chemistry Marks:\"))\n",
    "math_marks=int(input(\"Enter Math Marks:\"))\n",
    "urdu_marks=int(input(\"Enter Urdu Marks:\"))\n",
    "eng_marks=int(input(\"Enter English Marks:\"))\n",
    "islam_marks=int(input(\"Enter Islamiat Marks:\"))\n",
    "print()\n",
    "print(\"_________________________________\")\n",
    "print()\n",
    "obtained_marks= phy_marks + chem_marks + math_marks + urdu_marks + eng_marks + islam_marks\n",
    "total_marks=550\n",
    "percentage=((obtained_marks / total_marks) * 100)\n",
    "if percentage >=80 and percentage <=100:\n",
    "    print(\"Grade A\")\n",
    "if percentage >=65 and percentage <=79.99:\n",
    "    print(\"Grade B\")\n",
    "if percentage >=50 and percentage <=64.99:\n",
    "    print(\"Grade C\")\n",
    "if percentage >=40 and percentage <=49.99:\n",
    "    print(\"Grade D\")\n",
    "if percentage >=0 and percentage <=39.99:\n",
    "    print(\"Grade F\")"
   ]
  },
  {
   "cell_type": "code",
   "execution_count": null,
   "metadata": {},
   "outputs": [],
   "source": []
  }
 ],
 "metadata": {
  "kernelspec": {
   "display_name": "Python 3",
   "language": "python",
   "name": "python3"
  },
  "language_info": {
   "codemirror_mode": {
    "name": "ipython",
    "version": 3
   },
   "file_extension": ".py",
   "mimetype": "text/x-python",
   "name": "python",
   "nbconvert_exporter": "python",
   "pygments_lexer": "ipython3",
   "version": "3.7.3"
  }
 },
 "nbformat": 4,
 "nbformat_minor": 2
}
