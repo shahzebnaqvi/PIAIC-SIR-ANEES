{
 "cells": [
  {
   "cell_type": "code",
   "execution_count": 23,
   "metadata": {},
   "outputs": [
    {
     "name": "stdout",
     "output_type": "stream",
     "text": [
      "MATHS = 90\n",
      "ENGLISH = 20\n",
      "STATS = 47\n",
      "ECONOMICS = 60\n",
      "URDU = 56\n",
      "TOTAL = 273\n",
      "PERCENTAGE = 54.6 %\n",
      "grade D\n"
     ]
    }
   ],
   "source": [
    "SUBJECT = (\"MATHS\", \"ENGLISH\" , \"STATS\" , \"ECONOMICS\" , \"URDU\")\n",
    "MARKS = (90,20,47,60,56)\n",
    "print(SUBJECT[0],\"=\",MARKS[0])\n",
    "print(SUBJECT[1],\"=\",MARKS[1])\n",
    "print(SUBJECT[2],\"=\",MARKS[2])\n",
    "print(SUBJECT[3],\"=\",MARKS[3])\n",
    "print(SUBJECT[4],\"=\",MARKS[4])\n",
    "total=MARKS[0]+ MARKS[1]+ MARKS[2]+MARKS[3]+MARKS[4]\n",
    "print(\"TOTAL =\",total)\n",
    "per=total/5 \n",
    "print(\"PERCENTAGE =\",per,\"%\")\n",
    "if per >= 80:\n",
    "    print(\"grade A\")\n",
    "elif per >= 70:\n",
    "    print(\"grade B\")\n",
    "elif per >= 60:\n",
    "    print(\"grade C\")\n",
    "elif per >= 50:\n",
    "    print(\"grade D\")\n",
    "else:\n",
    "    print(\"grade F\")\n"
   ]
  },
  {
   "cell_type": "code",
   "execution_count": null,
   "metadata": {},
   "outputs": [],
   "source": []
  },
  {
   "cell_type": "code",
   "execution_count": null,
   "metadata": {},
   "outputs": [],
   "source": []
  },
  {
   "cell_type": "code",
   "execution_count": null,
   "metadata": {},
   "outputs": [],
   "source": []
  }
 ],
 "metadata": {
  "kernelspec": {
   "display_name": "Python 3",
   "language": "python",
   "name": "python3"
  },
  "language_info": {
   "codemirror_mode": {
    "name": "ipython",
    "version": 3
   },
   "file_extension": ".py",
   "mimetype": "text/x-python",
   "name": "python",
   "nbconvert_exporter": "python",
   "pygments_lexer": "ipython3",
   "version": "3.7.3"
  }
 },
 "nbformat": 4,
 "nbformat_minor": 2
}
